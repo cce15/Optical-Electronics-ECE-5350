{
  "nbformat": 4,
  "nbformat_minor": 0,
  "metadata": {
    "colab": {
      "provenance": []
    },
    "kernelspec": {
      "name": "python3",
      "display_name": "Python 3"
    },
    "language_info": {
      "name": "python"
    }
  },
  "cells": [
    {
      "cell_type": "markdown",
      "source": [
        "#Integrated Waveguides\n",
        "\n",
        "Question: A waveguide has a core refractive index, n1 = 1.46 and cladding refractive index, n2 = 1.44 Make a TE-mode chart table and plot the TE-mode chart for the first three-guided modes."
      ],
      "metadata": {
        "id": "TZUMRKpf9wf5"
      }
    },
    {
      "cell_type": "code",
      "source": [
        "# @title Input Parameters\n",
        "# @markdown Required Input\n",
        "core_n1 = 1.46  # @param {type: \"number\"}\n",
        "clading_n2 = 1.44  # @param {type: \"number\"}\n",
        "smoothing=1  # @param {type: \"number\"}\n",
        "number_of_guided_modes = 3  # @param {type: \"number\"}\n",
        "# @markdown ---"
      ],
      "metadata": {
        "id": "Ufzevh7N-r1h"
      },
      "execution_count": 10,
      "outputs": []
    },
    {
      "cell_type": "code",
      "source": [
        "import math\n",
        "from IPython.display import display, Math\n",
        "import numpy as np\n",
        "\n",
        "# @title Step1 find the critical theta  & create thetas list from theta_c to 90 degree\n",
        "# Display the equation\n",
        "# LaTeX expression\n",
        "expression = r\"\\theta_c= sin^{-1}\\left(\\frac{n_2}{n_1}\\right)\"\n",
        "\n",
        "# Display the expression\n",
        "display(Math(expression))\n",
        "# Calculate cretical θ\n",
        "n1=core_n1\n",
        "n2=clading_n2\n",
        "if n2 >= n1:\n",
        "  print(\"Total internal reflection is not possible if n2 is not less than n1\")\n",
        "else:\n",
        "  sin_theta_c = n2 / n1\n",
        "  theta_c =round(math.degrees(math.asin(sin_theta_c)),3)\n",
        "  print(f\"theta_c = {theta_c} degrees\")\n",
        "\n",
        "#create theat list from crtical theta to 90 degree\n",
        "thetas= [theta_c]\n",
        "# for d in np.arange(theta_c, 90+smoothing, smoothing):\n",
        "#   print(d)\n",
        "#   thetas.append(d)\n",
        "# thetas[-1]=math.floor(th[-1])\n",
        "for i in range(int(theta_c+smoothing),90+smoothing,smoothing):\n",
        "\n",
        "  thetas.append(i)\n",
        "#\n",
        "print(f'Thetas List {thetas}')"
      ],
      "metadata": {
        "colab": {
          "base_uri": "https://localhost:8080/",
          "height": 94
        },
        "id": "rBnXn4B7FHIF",
        "outputId": "e2b980f6-9f32-42e1-92a2-50ffefb11250",
        "cellView": "form"
      },
      "execution_count": 11,
      "outputs": [
        {
          "output_type": "display_data",
          "data": {
            "text/plain": [
              "<IPython.core.display.Math object>"
            ],
            "text/latex": "$\\displaystyle \\theta_c= sin^{-1}\\left(\\frac{n_2}{n_1}\\right)$"
          },
          "metadata": {}
        },
        {
          "output_type": "stream",
          "name": "stdout",
          "text": [
            "theta_c = 80.505 degrees\n",
            "Thetas List [80.505, 81, 82, 83, 84, 85, 86, 87, 88, 89, 90]\n"
          ]
        }
      ]
    },
    {
      "cell_type": "code",
      "source": [
        "# @title Step 2 Calculate the effective index Neff\n",
        "# Using n1*sin(theta)\n",
        "print(\"Using n1*sin(theta)\")\n",
        "neff=[]\n",
        "for theta in thetas:\n",
        "  neff.append(round(n1*math.sin(math.radians(theta)),3))\n",
        "print(f'neff {neff}')"
      ],
      "metadata": {
        "colab": {
          "base_uri": "https://localhost:8080/"
        },
        "id": "7PrsZH6uSSar",
        "outputId": "5fca8fa4-2376-4f19-beb2-e346172218c5",
        "cellView": "form"
      },
      "execution_count": 12,
      "outputs": [
        {
          "output_type": "stream",
          "name": "stdout",
          "text": [
            "Using n1*sin(theta)\n",
            "neff [1.44, 1.442, 1.446, 1.449, 1.452, 1.454, 1.456, 1.458, 1.459, 1.46, 1.46]\n"
          ]
        }
      ]
    },
    {
      "cell_type": "code",
      "source": [
        "# @title Step 3 Calculate tan(hd/2)\n",
        "import math\n",
        "from IPython.display import display, Math\n",
        "\n",
        "def calculate_value(n1, n2, theta_degrees):\n",
        "    \"\"\"\n",
        "    Calculate the specified optical parameter using the given equation and display the equation in LaTeX.\n",
        "\n",
        "    Parameters:\n",
        "    - n1 (float): Refractive index of the denser medium (e.g., optical fiber core)\n",
        "    - n2 (float): Refractive index of the less dense medium (e.g., cladding)\n",
        "    - theta_degrees (float): Angle of incidence in degrees\n",
        "\n",
        "    Returns:\n",
        "    - float: Computed value based on the provided formula, or None if the calculation is not possible\n",
        "    \"\"\"\n",
        "    theta = math.radians(theta_degrees)  # Convert degrees to radians\n",
        "    sin_theta = math.sin(theta)\n",
        "    cos_theta = math.cos(theta)\n",
        "\n",
        "    # Inside the square root\n",
        "    inside_sqrt = (n1**2 * sin_theta**2) - n2**2\n",
        "\n",
        "    if inside_sqrt < 0:\n",
        "        return 0\n",
        "\n",
        "\n",
        "    # Calculate the value\n",
        "    result = (1 / (n1 * cos_theta)) * math.sqrt(inside_sqrt)\n",
        "    # if result > 100:\n",
        "    #     return \"infinity\"\n",
        "\n",
        "\n",
        "    return result\n",
        "\n",
        "# Display the equation\n",
        "display(Math(r\"\\frac{1}{n_1 \\cos(\\theta)} \\sqrt{n_1^2 \\sin^2(\\theta) - n_2^2}\"))\n",
        "\n",
        "\n",
        "\n",
        "\n",
        "tan_hd_2=[]\n",
        "for theta in thetas:\n",
        "  s=round(calculate_value(n1, n2, theta),3)\n",
        "  if s<0.1:\n",
        "    s=0\n",
        "  tan_hd_2.append(s)\n",
        "print(f\"Calculated values : {tan_hd_2}\")\n",
        "\n"
      ],
      "metadata": {
        "colab": {
          "base_uri": "https://localhost:8080/",
          "height": 74
        },
        "id": "e31NrxxVVduh",
        "outputId": "c379a439-8a2d-41bc-95cc-8b2f7429a366",
        "cellView": "form"
      },
      "execution_count": 13,
      "outputs": [
        {
          "output_type": "display_data",
          "data": {
            "text/plain": [
              "<IPython.core.display.Math object>"
            ],
            "text/latex": "$\\displaystyle \\frac{1}{n_1 \\cos(\\theta)} \\sqrt{n_1^2 \\sin^2(\\theta) - n_2^2}$"
          },
          "metadata": {}
        },
        {
          "output_type": "stream",
          "name": "stdout",
          "text": [
            "Calculated values : [0, 0.334, 0.636, 0.912, 1.221, 1.607, 2.143, 2.989, 4.62, 9.399, 2693892647402691.5]\n"
          ]
        }
      ]
    },
    {
      "cell_type": "code",
      "source": [
        "# @title Step 4 Calculate hd\n",
        "# Using hd = tan^-1(tan(hd/2)) then convert to radions\n",
        "# LaTeX expression\n",
        "# LaTeX expression\n",
        "expression = r\"hd = \\tan^{-1} \\left( \\tan \\left( \\frac{hd}{2} \\right) \\right)\"\n",
        "\n",
        "# Display the expression\n",
        "display(Math(expression))\n",
        "hd=[]\n",
        "\n",
        "for h in tan_hd_2:\n",
        "  chd=round(2*math.atan(h),3)\n",
        "  if chd<0.1:\n",
        "    chd=0\n",
        "  hd.append(chd)\n",
        "print(f\"hd {hd}\")"
      ],
      "metadata": {
        "colab": {
          "base_uri": "https://localhost:8080/",
          "height": 76
        },
        "id": "cwYCIx-RZj5G",
        "outputId": "e0e964e5-888c-484a-c1b3-7e1dea4c5976",
        "cellView": "form"
      },
      "execution_count": 14,
      "outputs": [
        {
          "output_type": "display_data",
          "data": {
            "text/plain": [
              "<IPython.core.display.Math object>"
            ],
            "text/latex": "$\\displaystyle hd = \\tan^{-1} \\left( \\tan \\left( \\frac{hd}{2} \\right) \\right)$"
          },
          "metadata": {}
        },
        {
          "output_type": "stream",
          "name": "stdout",
          "text": [
            "hd [0, 0.645, 1.133, 1.479, 1.769, 2.028, 2.268, 2.496, 2.715, 2.93, 3.142]\n"
          ]
        }
      ]
    },
    {
      "cell_type": "code",
      "source": [
        "# @title Step 5 Calculate 2π.n1.cosθ\n",
        "# Using 2π.n1.cosθ\n",
        "# LaTeX expression\n",
        "expression = r\"2\\pi n_1 \\cos\\theta\"\n",
        "\n",
        "# Display the expression\n",
        "display(Math(expression))\n",
        "pi2_n1_cos_theta=[]\n",
        "for theta in thetas:\n",
        "  pi2_n1_cos_theta.append(round(2*3.14*n1*math.cos(math.radians(theta)),3))\n",
        "print(f\"pi2_n1_cos_theta {pi2_n1_cos_theta}\")"
      ],
      "metadata": {
        "colab": {
          "base_uri": "https://localhost:8080/",
          "height": 57
        },
        "id": "08Y-_ha-0XKB",
        "outputId": "d5ec3bc9-51f0-4bf1-a347-3c445f017b2b",
        "cellView": "form"
      },
      "execution_count": 15,
      "outputs": [
        {
          "output_type": "display_data",
          "data": {
            "text/plain": [
              "<IPython.core.display.Math object>"
            ],
            "text/latex": "$\\displaystyle 2\\pi n_1 \\cos\\theta$"
          },
          "metadata": {}
        },
        {
          "output_type": "stream",
          "name": "stdout",
          "text": [
            "pi2_n1_cos_theta [1.512, 1.434, 1.276, 1.117, 0.958, 0.799, 0.64, 0.48, 0.32, 0.16, 0.0]\n"
          ]
        }
      ]
    },
    {
      "cell_type": "code",
      "source": [
        "# @title Step 6 calculate (d/λ)\n",
        "import numpy as np\n",
        "from IPython.display import display, Math\n",
        "\n",
        "# Define the equation in LaTeX\n",
        "equation = r\"\\frac{d}{\\lambda} = \\frac{hd}{2\\pi n_1 \\cos(\\theta)}\"\n",
        "\n",
        "# Display the equation\n",
        "display(Math(equation))\n",
        "\n",
        "result = []\n",
        "for a, b in zip(hd, pi2_n1_cos_theta):\n",
        "  try:\n",
        "    result.append(a / b)\n",
        "  except ZeroDivisionError:\n",
        "    result.append(float('inf'))  # Or any other value you prefer\n",
        "\n",
        "d_lamda=[]\n",
        "# result = np.divide(hd, pi2_n1_cos_theta)\n",
        "for r in result:\n",
        "  d_lamda.append(round(r,2))\n",
        "\n",
        "print(f\"(d/λ) {d_lamda}\")"
      ],
      "metadata": {
        "colab": {
          "base_uri": "https://localhost:8080/",
          "height": 74
        },
        "id": "JNZSP9Pm3E2L",
        "outputId": "815935cc-8507-48c3-edb6-7d7669087439",
        "cellView": "form"
      },
      "execution_count": 16,
      "outputs": [
        {
          "output_type": "display_data",
          "data": {
            "text/plain": [
              "<IPython.core.display.Math object>"
            ],
            "text/latex": "$\\displaystyle \\frac{d}{\\lambda} = \\frac{hd}{2\\pi n_1 \\cos(\\theta)}$"
          },
          "metadata": {}
        },
        {
          "output_type": "stream",
          "name": "stdout",
          "text": [
            "(d/λ) [0.0, 0.45, 0.89, 1.32, 1.85, 2.54, 3.54, 5.2, 8.48, 18.31, inf]\n"
          ]
        }
      ]
    },
    {
      "cell_type": "code",
      "source": [
        "# @title Step 7 caluclate Δ(d/λ)\n",
        "# LaTeX expression\n",
        "expression = r\"\\Delta \\left( \\frac{d}{\\lambda} \\right) = \\frac{1}{2 n_1 \\cos \\theta}\"\n",
        "\n",
        "# Display the expression\n",
        "display(Math(expression))\n",
        "delta_d_lamda=[]\n",
        "for theta in thetas:\n",
        "    theta_radians = math.radians(theta)  # Convert degrees to radians\n",
        "    cos_theta = math.cos(theta_radians)\n",
        "\n",
        "    delta_d_lambda2 = 1 / (2 * n1 * cos_theta)\n",
        "    delta_d_lamda.append(round(delta_d_lambda2,3))\n",
        "\n",
        "print(f\"Δ(d/λ) {delta_d_lamda}\")"
      ],
      "metadata": {
        "colab": {
          "base_uri": "https://localhost:8080/",
          "height": 76
        },
        "id": "qAIsU8UPMEAv",
        "outputId": "836bd2bb-cdf2-4f84-929a-314e3078edc2",
        "cellView": "form"
      },
      "execution_count": 17,
      "outputs": [
        {
          "output_type": "display_data",
          "data": {
            "text/plain": [
              "<IPython.core.display.Math object>"
            ],
            "text/latex": "$\\displaystyle \\Delta \\left( \\frac{d}{\\lambda} \\right) = \\frac{1}{2 n_1 \\cos \\theta}$"
          },
          "metadata": {}
        },
        {
          "output_type": "stream",
          "name": "stdout",
          "text": [
            "Δ(d/λ) [2.076, 2.189, 2.461, 2.81, 3.276, 3.929, 4.909, 6.544, 9.813, 19.623, 5592890189450469.0]\n"
          ]
        }
      ]
    },
    {
      "cell_type": "code",
      "source": [
        "# @title Calculate the other number of guided modes\n",
        "print(f\"number of guided modes {number_of_guided_modes}\")\n",
        "print(\"mode 0\")\n",
        "print(d_lamda)\n",
        "\n",
        "mode1=[x + y for x, y in zip(d_lamda, delta_d_lamda)]\n",
        "print(\"mode 1\")\n",
        "print(mode1)\n",
        "\n",
        "modes=[mode1]\n",
        "\n",
        "# print(modes)\n",
        "# for d in d_lamda:\n",
        "#     t= d+delta_d_lamdas[d.index]\n",
        "#     mode0.append(t)\n",
        "# print (mode0)\n",
        "\n",
        "for i in range(number_of_guided_modes-2):\n",
        "  print(f\"mode {i+2}\")\n",
        "\n",
        "  mode=[x + y for x, y in zip(delta_d_lamda,modes[i])]\n",
        "  modes.append(mode)\n",
        "  print(mode)\n"
      ],
      "metadata": {
        "colab": {
          "base_uri": "https://localhost:8080/"
        },
        "id": "wROtVs78RylV",
        "outputId": "a04df682-da29-45e4-c457-fee2f2c44728"
      },
      "execution_count": 18,
      "outputs": [
        {
          "output_type": "stream",
          "name": "stdout",
          "text": [
            "number of guided modes 3\n",
            "mode 0\n",
            "[0.0, 0.45, 0.89, 1.32, 1.85, 2.54, 3.54, 5.2, 8.48, 18.31, inf]\n",
            "mode 1\n",
            "[2.076, 2.6390000000000002, 3.351, 4.13, 5.1259999999999994, 6.468999999999999, 8.449, 11.744, 18.293, 37.933, inf]\n",
            "mode 2\n",
            "[4.152, 4.828, 5.811999999999999, 6.9399999999999995, 8.402, 10.398, 13.358, 18.288, 28.106, 57.556, inf]\n"
          ]
        }
      ]
    },
    {
      "cell_type": "code",
      "source": [
        "# @title TE mode table\n",
        "import pandas as pd\n",
        "# Creating a DataFrame\n",
        "t0modetable = pd.DataFrame({\n",
        "    'θ': thetas,\n",
        "    'neff': neff,\n",
        "    'tan(hd/2)': tan_hd_2,\n",
        "    'hd': hd,\n",
        "    '2π.n1.cosθ': pi2_n1_cos_theta,\n",
        "    '(d/λ) TE0': d_lamda,\n",
        "    'Δ(d/λ)': delta_d_lamda\n",
        "})\n",
        "\n",
        "for m in modes:\n",
        "  t0modetable[f'TE {modes.index(m)+1}'] = m\n",
        "\n",
        "t0modetable = t0modetable.where(t0modetable <= 1000, np.inf)\n",
        "\n",
        "# Set display options\n",
        "pd.set_option('display.max_colwidth', None)  # Display full column width\n",
        "pd.options.display.float_format = '{:.3f}'.format\n",
        "display(t0modetable)"
      ],
      "metadata": {
        "colab": {
          "base_uri": "https://localhost:8080/",
          "height": 394
        },
        "id": "ry_uzAPK_Wh0",
        "outputId": "10743a31-9bed-48d5-d570-e66511359f0a"
      },
      "execution_count": 22,
      "outputs": [
        {
          "output_type": "display_data",
          "data": {
            "text/plain": [
              "        θ  neff  tan(hd/2)    hd  2π.n1.cosθ  (d/λ) TE0  Δ(d/λ)   TE 1   TE 2\n",
              "0  80.505 1.440      0.000 0.000       1.512      0.000   2.076  2.076  4.152\n",
              "1  81.000 1.442      0.334 0.645       1.434      0.450   2.189  2.639  4.828\n",
              "2  82.000 1.446      0.636 1.133       1.276      0.890   2.461  3.351  5.812\n",
              "3  83.000 1.449      0.912 1.479       1.117      1.320   2.810  4.130  6.940\n",
              "4  84.000 1.452      1.221 1.769       0.958      1.850   3.276  5.126  8.402\n",
              "5  85.000 1.454      1.607 2.028       0.799      2.540   3.929  6.469 10.398\n",
              "6  86.000 1.456      2.143 2.268       0.640      3.540   4.909  8.449 13.358\n",
              "7  87.000 1.458      2.989 2.496       0.480      5.200   6.544 11.744 18.288\n",
              "8  88.000 1.459      4.620 2.715       0.320      8.480   9.813 18.293 28.106\n",
              "9  89.000 1.460      9.399 2.930       0.160     18.310  19.623 37.933 57.556\n",
              "10 90.000 1.460        inf 3.142       0.000        inf     inf    inf    inf"
            ],
            "text/html": [
              "\n",
              "  <div id=\"df-806930b4-3a4b-40b5-bbc8-216c63452562\" class=\"colab-df-container\">\n",
              "    <div>\n",
              "<style scoped>\n",
              "    .dataframe tbody tr th:only-of-type {\n",
              "        vertical-align: middle;\n",
              "    }\n",
              "\n",
              "    .dataframe tbody tr th {\n",
              "        vertical-align: top;\n",
              "    }\n",
              "\n",
              "    .dataframe thead th {\n",
              "        text-align: right;\n",
              "    }\n",
              "</style>\n",
              "<table border=\"1\" class=\"dataframe\">\n",
              "  <thead>\n",
              "    <tr style=\"text-align: right;\">\n",
              "      <th></th>\n",
              "      <th>θ</th>\n",
              "      <th>neff</th>\n",
              "      <th>tan(hd/2)</th>\n",
              "      <th>hd</th>\n",
              "      <th>2π.n1.cosθ</th>\n",
              "      <th>(d/λ) TE0</th>\n",
              "      <th>Δ(d/λ)</th>\n",
              "      <th>TE 1</th>\n",
              "      <th>TE 2</th>\n",
              "    </tr>\n",
              "  </thead>\n",
              "  <tbody>\n",
              "    <tr>\n",
              "      <th>0</th>\n",
              "      <td>80.505</td>\n",
              "      <td>1.440</td>\n",
              "      <td>0.000</td>\n",
              "      <td>0.000</td>\n",
              "      <td>1.512</td>\n",
              "      <td>0.000</td>\n",
              "      <td>2.076</td>\n",
              "      <td>2.076</td>\n",
              "      <td>4.152</td>\n",
              "    </tr>\n",
              "    <tr>\n",
              "      <th>1</th>\n",
              "      <td>81.000</td>\n",
              "      <td>1.442</td>\n",
              "      <td>0.334</td>\n",
              "      <td>0.645</td>\n",
              "      <td>1.434</td>\n",
              "      <td>0.450</td>\n",
              "      <td>2.189</td>\n",
              "      <td>2.639</td>\n",
              "      <td>4.828</td>\n",
              "    </tr>\n",
              "    <tr>\n",
              "      <th>2</th>\n",
              "      <td>82.000</td>\n",
              "      <td>1.446</td>\n",
              "      <td>0.636</td>\n",
              "      <td>1.133</td>\n",
              "      <td>1.276</td>\n",
              "      <td>0.890</td>\n",
              "      <td>2.461</td>\n",
              "      <td>3.351</td>\n",
              "      <td>5.812</td>\n",
              "    </tr>\n",
              "    <tr>\n",
              "      <th>3</th>\n",
              "      <td>83.000</td>\n",
              "      <td>1.449</td>\n",
              "      <td>0.912</td>\n",
              "      <td>1.479</td>\n",
              "      <td>1.117</td>\n",
              "      <td>1.320</td>\n",
              "      <td>2.810</td>\n",
              "      <td>4.130</td>\n",
              "      <td>6.940</td>\n",
              "    </tr>\n",
              "    <tr>\n",
              "      <th>4</th>\n",
              "      <td>84.000</td>\n",
              "      <td>1.452</td>\n",
              "      <td>1.221</td>\n",
              "      <td>1.769</td>\n",
              "      <td>0.958</td>\n",
              "      <td>1.850</td>\n",
              "      <td>3.276</td>\n",
              "      <td>5.126</td>\n",
              "      <td>8.402</td>\n",
              "    </tr>\n",
              "    <tr>\n",
              "      <th>5</th>\n",
              "      <td>85.000</td>\n",
              "      <td>1.454</td>\n",
              "      <td>1.607</td>\n",
              "      <td>2.028</td>\n",
              "      <td>0.799</td>\n",
              "      <td>2.540</td>\n",
              "      <td>3.929</td>\n",
              "      <td>6.469</td>\n",
              "      <td>10.398</td>\n",
              "    </tr>\n",
              "    <tr>\n",
              "      <th>6</th>\n",
              "      <td>86.000</td>\n",
              "      <td>1.456</td>\n",
              "      <td>2.143</td>\n",
              "      <td>2.268</td>\n",
              "      <td>0.640</td>\n",
              "      <td>3.540</td>\n",
              "      <td>4.909</td>\n",
              "      <td>8.449</td>\n",
              "      <td>13.358</td>\n",
              "    </tr>\n",
              "    <tr>\n",
              "      <th>7</th>\n",
              "      <td>87.000</td>\n",
              "      <td>1.458</td>\n",
              "      <td>2.989</td>\n",
              "      <td>2.496</td>\n",
              "      <td>0.480</td>\n",
              "      <td>5.200</td>\n",
              "      <td>6.544</td>\n",
              "      <td>11.744</td>\n",
              "      <td>18.288</td>\n",
              "    </tr>\n",
              "    <tr>\n",
              "      <th>8</th>\n",
              "      <td>88.000</td>\n",
              "      <td>1.459</td>\n",
              "      <td>4.620</td>\n",
              "      <td>2.715</td>\n",
              "      <td>0.320</td>\n",
              "      <td>8.480</td>\n",
              "      <td>9.813</td>\n",
              "      <td>18.293</td>\n",
              "      <td>28.106</td>\n",
              "    </tr>\n",
              "    <tr>\n",
              "      <th>9</th>\n",
              "      <td>89.000</td>\n",
              "      <td>1.460</td>\n",
              "      <td>9.399</td>\n",
              "      <td>2.930</td>\n",
              "      <td>0.160</td>\n",
              "      <td>18.310</td>\n",
              "      <td>19.623</td>\n",
              "      <td>37.933</td>\n",
              "      <td>57.556</td>\n",
              "    </tr>\n",
              "    <tr>\n",
              "      <th>10</th>\n",
              "      <td>90.000</td>\n",
              "      <td>1.460</td>\n",
              "      <td>inf</td>\n",
              "      <td>3.142</td>\n",
              "      <td>0.000</td>\n",
              "      <td>inf</td>\n",
              "      <td>inf</td>\n",
              "      <td>inf</td>\n",
              "      <td>inf</td>\n",
              "    </tr>\n",
              "  </tbody>\n",
              "</table>\n",
              "</div>\n",
              "    <div class=\"colab-df-buttons\">\n",
              "\n",
              "  <div class=\"colab-df-container\">\n",
              "    <button class=\"colab-df-convert\" onclick=\"convertToInteractive('df-806930b4-3a4b-40b5-bbc8-216c63452562')\"\n",
              "            title=\"Convert this dataframe to an interactive table.\"\n",
              "            style=\"display:none;\">\n",
              "\n",
              "  <svg xmlns=\"http://www.w3.org/2000/svg\" height=\"24px\" viewBox=\"0 -960 960 960\">\n",
              "    <path d=\"M120-120v-720h720v720H120Zm60-500h600v-160H180v160Zm220 220h160v-160H400v160Zm0 220h160v-160H400v160ZM180-400h160v-160H180v160Zm440 0h160v-160H620v160ZM180-180h160v-160H180v160Zm440 0h160v-160H620v160Z\"/>\n",
              "  </svg>\n",
              "    </button>\n",
              "\n",
              "  <style>\n",
              "    .colab-df-container {\n",
              "      display:flex;\n",
              "      gap: 12px;\n",
              "    }\n",
              "\n",
              "    .colab-df-convert {\n",
              "      background-color: #E8F0FE;\n",
              "      border: none;\n",
              "      border-radius: 50%;\n",
              "      cursor: pointer;\n",
              "      display: none;\n",
              "      fill: #1967D2;\n",
              "      height: 32px;\n",
              "      padding: 0 0 0 0;\n",
              "      width: 32px;\n",
              "    }\n",
              "\n",
              "    .colab-df-convert:hover {\n",
              "      background-color: #E2EBFA;\n",
              "      box-shadow: 0px 1px 2px rgba(60, 64, 67, 0.3), 0px 1px 3px 1px rgba(60, 64, 67, 0.15);\n",
              "      fill: #174EA6;\n",
              "    }\n",
              "\n",
              "    .colab-df-buttons div {\n",
              "      margin-bottom: 4px;\n",
              "    }\n",
              "\n",
              "    [theme=dark] .colab-df-convert {\n",
              "      background-color: #3B4455;\n",
              "      fill: #D2E3FC;\n",
              "    }\n",
              "\n",
              "    [theme=dark] .colab-df-convert:hover {\n",
              "      background-color: #434B5C;\n",
              "      box-shadow: 0px 1px 3px 1px rgba(0, 0, 0, 0.15);\n",
              "      filter: drop-shadow(0px 1px 2px rgba(0, 0, 0, 0.3));\n",
              "      fill: #FFFFFF;\n",
              "    }\n",
              "  </style>\n",
              "\n",
              "    <script>\n",
              "      const buttonEl =\n",
              "        document.querySelector('#df-806930b4-3a4b-40b5-bbc8-216c63452562 button.colab-df-convert');\n",
              "      buttonEl.style.display =\n",
              "        google.colab.kernel.accessAllowed ? 'block' : 'none';\n",
              "\n",
              "      async function convertToInteractive(key) {\n",
              "        const element = document.querySelector('#df-806930b4-3a4b-40b5-bbc8-216c63452562');\n",
              "        const dataTable =\n",
              "          await google.colab.kernel.invokeFunction('convertToInteractive',\n",
              "                                                    [key], {});\n",
              "        if (!dataTable) return;\n",
              "\n",
              "        const docLinkHtml = 'Like what you see? Visit the ' +\n",
              "          '<a target=\"_blank\" href=https://colab.research.google.com/notebooks/data_table.ipynb>data table notebook</a>'\n",
              "          + ' to learn more about interactive tables.';\n",
              "        element.innerHTML = '';\n",
              "        dataTable['output_type'] = 'display_data';\n",
              "        await google.colab.output.renderOutput(dataTable, element);\n",
              "        const docLink = document.createElement('div');\n",
              "        docLink.innerHTML = docLinkHtml;\n",
              "        element.appendChild(docLink);\n",
              "      }\n",
              "    </script>\n",
              "  </div>\n",
              "\n",
              "\n",
              "<div id=\"df-4c9597c0-a74b-42b0-bcac-500db7788680\">\n",
              "  <button class=\"colab-df-quickchart\" onclick=\"quickchart('df-4c9597c0-a74b-42b0-bcac-500db7788680')\"\n",
              "            title=\"Suggest charts\"\n",
              "            style=\"display:none;\">\n",
              "\n",
              "<svg xmlns=\"http://www.w3.org/2000/svg\" height=\"24px\"viewBox=\"0 0 24 24\"\n",
              "     width=\"24px\">\n",
              "    <g>\n",
              "        <path d=\"M19 3H5c-1.1 0-2 .9-2 2v14c0 1.1.9 2 2 2h14c1.1 0 2-.9 2-2V5c0-1.1-.9-2-2-2zM9 17H7v-7h2v7zm4 0h-2V7h2v10zm4 0h-2v-4h2v4z\"/>\n",
              "    </g>\n",
              "</svg>\n",
              "  </button>\n",
              "\n",
              "<style>\n",
              "  .colab-df-quickchart {\n",
              "      --bg-color: #E8F0FE;\n",
              "      --fill-color: #1967D2;\n",
              "      --hover-bg-color: #E2EBFA;\n",
              "      --hover-fill-color: #174EA6;\n",
              "      --disabled-fill-color: #AAA;\n",
              "      --disabled-bg-color: #DDD;\n",
              "  }\n",
              "\n",
              "  [theme=dark] .colab-df-quickchart {\n",
              "      --bg-color: #3B4455;\n",
              "      --fill-color: #D2E3FC;\n",
              "      --hover-bg-color: #434B5C;\n",
              "      --hover-fill-color: #FFFFFF;\n",
              "      --disabled-bg-color: #3B4455;\n",
              "      --disabled-fill-color: #666;\n",
              "  }\n",
              "\n",
              "  .colab-df-quickchart {\n",
              "    background-color: var(--bg-color);\n",
              "    border: none;\n",
              "    border-radius: 50%;\n",
              "    cursor: pointer;\n",
              "    display: none;\n",
              "    fill: var(--fill-color);\n",
              "    height: 32px;\n",
              "    padding: 0;\n",
              "    width: 32px;\n",
              "  }\n",
              "\n",
              "  .colab-df-quickchart:hover {\n",
              "    background-color: var(--hover-bg-color);\n",
              "    box-shadow: 0 1px 2px rgba(60, 64, 67, 0.3), 0 1px 3px 1px rgba(60, 64, 67, 0.15);\n",
              "    fill: var(--button-hover-fill-color);\n",
              "  }\n",
              "\n",
              "  .colab-df-quickchart-complete:disabled,\n",
              "  .colab-df-quickchart-complete:disabled:hover {\n",
              "    background-color: var(--disabled-bg-color);\n",
              "    fill: var(--disabled-fill-color);\n",
              "    box-shadow: none;\n",
              "  }\n",
              "\n",
              "  .colab-df-spinner {\n",
              "    border: 2px solid var(--fill-color);\n",
              "    border-color: transparent;\n",
              "    border-bottom-color: var(--fill-color);\n",
              "    animation:\n",
              "      spin 1s steps(1) infinite;\n",
              "  }\n",
              "\n",
              "  @keyframes spin {\n",
              "    0% {\n",
              "      border-color: transparent;\n",
              "      border-bottom-color: var(--fill-color);\n",
              "      border-left-color: var(--fill-color);\n",
              "    }\n",
              "    20% {\n",
              "      border-color: transparent;\n",
              "      border-left-color: var(--fill-color);\n",
              "      border-top-color: var(--fill-color);\n",
              "    }\n",
              "    30% {\n",
              "      border-color: transparent;\n",
              "      border-left-color: var(--fill-color);\n",
              "      border-top-color: var(--fill-color);\n",
              "      border-right-color: var(--fill-color);\n",
              "    }\n",
              "    40% {\n",
              "      border-color: transparent;\n",
              "      border-right-color: var(--fill-color);\n",
              "      border-top-color: var(--fill-color);\n",
              "    }\n",
              "    60% {\n",
              "      border-color: transparent;\n",
              "      border-right-color: var(--fill-color);\n",
              "    }\n",
              "    80% {\n",
              "      border-color: transparent;\n",
              "      border-right-color: var(--fill-color);\n",
              "      border-bottom-color: var(--fill-color);\n",
              "    }\n",
              "    90% {\n",
              "      border-color: transparent;\n",
              "      border-bottom-color: var(--fill-color);\n",
              "    }\n",
              "  }\n",
              "</style>\n",
              "\n",
              "  <script>\n",
              "    async function quickchart(key) {\n",
              "      const quickchartButtonEl =\n",
              "        document.querySelector('#' + key + ' button');\n",
              "      quickchartButtonEl.disabled = true;  // To prevent multiple clicks.\n",
              "      quickchartButtonEl.classList.add('colab-df-spinner');\n",
              "      try {\n",
              "        const charts = await google.colab.kernel.invokeFunction(\n",
              "            'suggestCharts', [key], {});\n",
              "      } catch (error) {\n",
              "        console.error('Error during call to suggestCharts:', error);\n",
              "      }\n",
              "      quickchartButtonEl.classList.remove('colab-df-spinner');\n",
              "      quickchartButtonEl.classList.add('colab-df-quickchart-complete');\n",
              "    }\n",
              "    (() => {\n",
              "      let quickchartButtonEl =\n",
              "        document.querySelector('#df-4c9597c0-a74b-42b0-bcac-500db7788680 button');\n",
              "      quickchartButtonEl.style.display =\n",
              "        google.colab.kernel.accessAllowed ? 'block' : 'none';\n",
              "    })();\n",
              "  </script>\n",
              "</div>\n",
              "\n",
              "  <div id=\"id_ab0dccf7-eeb2-4d21-b41b-4253f305c433\">\n",
              "    <style>\n",
              "      .colab-df-generate {\n",
              "        background-color: #E8F0FE;\n",
              "        border: none;\n",
              "        border-radius: 50%;\n",
              "        cursor: pointer;\n",
              "        display: none;\n",
              "        fill: #1967D2;\n",
              "        height: 32px;\n",
              "        padding: 0 0 0 0;\n",
              "        width: 32px;\n",
              "      }\n",
              "\n",
              "      .colab-df-generate:hover {\n",
              "        background-color: #E2EBFA;\n",
              "        box-shadow: 0px 1px 2px rgba(60, 64, 67, 0.3), 0px 1px 3px 1px rgba(60, 64, 67, 0.15);\n",
              "        fill: #174EA6;\n",
              "      }\n",
              "\n",
              "      [theme=dark] .colab-df-generate {\n",
              "        background-color: #3B4455;\n",
              "        fill: #D2E3FC;\n",
              "      }\n",
              "\n",
              "      [theme=dark] .colab-df-generate:hover {\n",
              "        background-color: #434B5C;\n",
              "        box-shadow: 0px 1px 3px 1px rgba(0, 0, 0, 0.15);\n",
              "        filter: drop-shadow(0px 1px 2px rgba(0, 0, 0, 0.3));\n",
              "        fill: #FFFFFF;\n",
              "      }\n",
              "    </style>\n",
              "    <button class=\"colab-df-generate\" onclick=\"generateWithVariable('t0modetable')\"\n",
              "            title=\"Generate code using this dataframe.\"\n",
              "            style=\"display:none;\">\n",
              "\n",
              "  <svg xmlns=\"http://www.w3.org/2000/svg\" height=\"24px\"viewBox=\"0 0 24 24\"\n",
              "       width=\"24px\">\n",
              "    <path d=\"M7,19H8.4L18.45,9,17,7.55,7,17.6ZM5,21V16.75L18.45,3.32a2,2,0,0,1,2.83,0l1.4,1.43a1.91,1.91,0,0,1,.58,1.4,1.91,1.91,0,0,1-.58,1.4L9.25,21ZM18.45,9,17,7.55Zm-12,3A5.31,5.31,0,0,0,4.9,8.1,5.31,5.31,0,0,0,1,6.5,5.31,5.31,0,0,0,4.9,4.9,5.31,5.31,0,0,0,6.5,1,5.31,5.31,0,0,0,8.1,4.9,5.31,5.31,0,0,0,12,6.5,5.46,5.46,0,0,0,6.5,12Z\"/>\n",
              "  </svg>\n",
              "    </button>\n",
              "    <script>\n",
              "      (() => {\n",
              "      const buttonEl =\n",
              "        document.querySelector('#id_ab0dccf7-eeb2-4d21-b41b-4253f305c433 button.colab-df-generate');\n",
              "      buttonEl.style.display =\n",
              "        google.colab.kernel.accessAllowed ? 'block' : 'none';\n",
              "\n",
              "      buttonEl.onclick = () => {\n",
              "        google.colab.notebook.generateWithVariable('t0modetable');\n",
              "      }\n",
              "      })();\n",
              "    </script>\n",
              "  </div>\n",
              "\n",
              "    </div>\n",
              "  </div>\n"
            ],
            "application/vnd.google.colaboratory.intrinsic+json": {
              "type": "dataframe",
              "variable_name": "t0modetable",
              "repr_error": "Out of range float values are not JSON compliant: inf"
            }
          },
          "metadata": {}
        }
      ]
    },
    {
      "cell_type": "code",
      "source": [
        "# @title TE Mode Chart\n",
        "import pandas as pd\n",
        "import matplotlib.pyplot as plt\n",
        "\n",
        "# Sample data\n",
        "data = {\n",
        "    'X': d_lamda,       # Common X-axis data\n",
        "    'Y1': neff,   # Data for the first Y-axis\n",
        "    'Y2': thetas # Data for the second Y-axis\n",
        "}\n",
        "\n",
        "# Creating a DataFrame\n",
        "df = pd.DataFrame(data)\n",
        "\n",
        "# Create a plot with a primary y-axis\n",
        "fig, ax1 = plt.subplots()\n",
        "\n",
        "# Plotting the first data series in blue using the primary y-axis\n",
        "color = 'blue'\n",
        "ax1.set_xlabel('d/λ')\n",
        "ax1.set_ylabel('Effective Refractive Index', color=color)  # Label for the first y-axis\n",
        "ax1.set_ylim(n2, n1)\n",
        "ax1.set_xlim(0,10)\n",
        "# for m in modes:\n",
        "#   data = {\n",
        "#     'X': m,       # Common X-axis data\n",
        "#     'Y1': neff,   # Data for the first Y-axis\n",
        "#     'Y2': thetas # Data for the second Y-axis\n",
        "# }\n",
        "#   ax1.plot(, neff, color=color)\n",
        "# ax1.plot(df['X'], df['Y1'], color=color)\n",
        "# for m in modes:\n",
        "#   ax1.plot(m, neff, color=color)\n",
        "ax1.plot(d_lamda, neff, color=\"green\",label='TE0')\n",
        "ax1.plot(modes[0], neff, color=\"brown\",label='TE1')\n",
        "ax1.plot(modes[1], neff, color=\"tab:purple\",label='TE2')\n",
        "# ax1.plot(modes[2], neff, color=color)\n",
        "# ax1.plot(modes[2], neff, color=color)\n",
        "# ax1.plot(modes[3], neff, color=color)\n",
        "ax1.tick_params(axis='y', labelcolor=color)\n",
        "\n",
        "# Create a second y-axis for the same x-axis\n",
        "ax2 = ax1.twinx()  # Instantiate a second axes that shares the same x-axis\n",
        "# Set the limits for the secondary y-axis\n",
        "\n",
        "ax2.set_ylim(theta_c, 90)\n",
        "color = 'blue'\n",
        "ax2.set_ylabel('Angle θ ', color=color)  # Setting the label for the second y-axis\n",
        "ax2.tick_params(axis='y', labelcolor=color)\n",
        "# ax2.plot(d_lamda, thetas, color=color)\n",
        "# ax2.plot(modes[0], thetas, color=color,)\n",
        "# ax2.plot(modes[1], thetas, color=color)\n",
        "# ax2.plot(modes[2], thetas, color=color)\n",
        "# ax2.plot(modes[2], thetas, color=color)\n",
        "# ax2.plot(modes[3], thetas, color=color)\n",
        "ax1.grid(True, linestyle='--', which='both', color='orange', alpha=0.5)\n",
        "# Adding legends\n",
        "fig.legend(loc=\"upper right\", bbox_to_anchor=(1,1), bbox_transform=ax1.transAxes)\n",
        "# Show the plot\n",
        "plt.title('TE Mode Chart')\n",
        "plt.show()\n",
        "\n"
      ],
      "metadata": {
        "colab": {
          "base_uri": "https://localhost:8080/",
          "height": 472
        },
        "id": "0MoDyewvqF3j",
        "outputId": "a11dde83-ae96-4897-df32-ab9cd2ac2cdc",
        "cellView": "form"
      },
      "execution_count": 20,
      "outputs": [
        {
          "output_type": "display_data",
          "data": {
            "text/plain": [
              "<Figure size 640x480 with 2 Axes>"
            ],
            "image/png": "[encoded data removed]"
          },
          "metadata": {}
        }
      ]
    },
    {
      "cell_type": "code",
      "source": [
        "# @title determine the thickness, d of the waveguide core to ensure single mode guidance (only TE 0 mode will guide)\n",
        "lambda_value_in_micro=1.55  # @param {type: \"number\"}\n",
        "import math\n",
        "\n",
        "# Display the equation\n",
        "display(Math(r'd = \\frac{\\lambda}{2 \\sqrt{n_1^2 - n_2^2}}'))\n",
        "\n",
        "\n",
        "\n",
        "# Calculate d using the formula\n",
        "d = round(lambda_value_in_micro / (2 * math.sqrt(n1**2 - n2**2)),3)\n",
        "\n",
        "# print(f\"Calculated value of {d} μm\")\n",
        "display(Math(r'd = \\frac{%s}{2 \\sqrt{%.2f^2 - %.2f^2}} = %.4f μm' % (lambda_value_in_micro, n1, n2, d)))\n",
        "\n"
      ],
      "metadata": {
        "colab": {
          "base_uri": "https://localhost:8080/",
          "height": 97
        },
        "id": "dlzFQ3XJbr3u",
        "outputId": "b78517e5-a501-448d-e1a4-cde38e3e8f4e",
        "cellView": "form"
      },
      "execution_count": 21,
      "outputs": [
        {
          "output_type": "display_data",
          "data": {
            "text/plain": [
              "<IPython.core.display.Math object>"
            ],
            "text/latex": "$\\displaystyle d = \\frac{\\lambda}{2 \\sqrt{n_1^2 - n_2^2}}$"
          },
          "metadata": {}
        },
        {
          "output_type": "display_data",
          "data": {
            "text/plain": [
              "<IPython.core.display.Math object>"
            ],
            "text/latex": "$\\displaystyle d = \\frac{1.55}{2 \\sqrt{1.46^2 - 1.44^2}} = 3.2180 μm$"
          },
          "metadata": {}
        }
      ]
    }
  ]
}